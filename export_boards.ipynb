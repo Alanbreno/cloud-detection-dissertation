{
 "cells": [
  {
   "cell_type": "code",
   "execution_count": 1,
   "metadata": {},
   "outputs": [],
   "source": [
    "from tensorboard.backend.event_processing import event_accumulator\n",
    "import pandas as pd\n",
    "import os"
   ]
  },
  {
   "cell_type": "code",
   "execution_count": 9,
   "metadata": {},
   "outputs": [
    {
     "name": "stdout",
     "output_type": "stream",
     "text": [
      "Processando train logs: G:\\Meu Drive\\Unet_4_bands_l2a\\lightning_logs\\Unet_mobilenet_v2\\version_0\\events.out.tfevents.1739317818.e1b64040053a.2138.0\n",
      "Exportado: G:\\Meu Drive\\Unet_4_bands_l2a\\lightning_logs\\Unet_mobilenet_v2\\version_0\\train\\hp_metric.csv\n",
      "Exportado: G:\\Meu Drive\\Unet_4_bands_l2a\\lightning_logs\\Unet_mobilenet_v2\\version_0\\train\\train_loss_step.csv\n",
      "Exportado: G:\\Meu Drive\\Unet_4_bands_l2a\\lightning_logs\\Unet_mobilenet_v2\\version_0\\train\\epoch.csv\n",
      "Exportado: G:\\Meu Drive\\Unet_4_bands_l2a\\lightning_logs\\Unet_mobilenet_v2\\version_0\\train\\val_loss.csv\n",
      "Exportado: G:\\Meu Drive\\Unet_4_bands_l2a\\lightning_logs\\Unet_mobilenet_v2\\version_0\\train\\valid_acuracia.csv\n",
      "Exportado: G:\\Meu Drive\\Unet_4_bands_l2a\\lightning_logs\\Unet_mobilenet_v2\\version_0\\train\\valid_dataset_iou.csv\n",
      "Exportado: G:\\Meu Drive\\Unet_4_bands_l2a\\lightning_logs\\Unet_mobilenet_v2\\version_0\\train\\valid_f1_score.csv\n",
      "Exportado: G:\\Meu Drive\\Unet_4_bands_l2a\\lightning_logs\\Unet_mobilenet_v2\\version_0\\train\\train_loss_epoch.csv\n",
      "Exportado: G:\\Meu Drive\\Unet_4_bands_l2a\\lightning_logs\\Unet_mobilenet_v2\\version_0\\train\\train_acuracia.csv\n",
      "Exportado: G:\\Meu Drive\\Unet_4_bands_l2a\\lightning_logs\\Unet_mobilenet_v2\\version_0\\train\\train_dataset_iou.csv\n",
      "Exportado: G:\\Meu Drive\\Unet_4_bands_l2a\\lightning_logs\\Unet_mobilenet_v2\\version_0\\train\\train_f1_score.csv\n",
      "Processando val logs: G:\\Meu Drive\\Unet_4_bands_l2a\\lightning_logs\\Unet_mobilenet_v2\\version_0\\events.out.tfevents.1739332734.e1b64040053a.2138.1\n",
      "Exportado: G:\\Meu Drive\\Unet_4_bands_l2a\\lightning_logs\\Unet_mobilenet_v2\\version_0\\val\\hp_metric.csv\n",
      "Exportado: G:\\Meu Drive\\Unet_4_bands_l2a\\lightning_logs\\Unet_mobilenet_v2\\version_0\\val\\val_loss.csv\n",
      "Exportado: G:\\Meu Drive\\Unet_4_bands_l2a\\lightning_logs\\Unet_mobilenet_v2\\version_0\\val\\valid_acuracia.csv\n",
      "Exportado: G:\\Meu Drive\\Unet_4_bands_l2a\\lightning_logs\\Unet_mobilenet_v2\\version_0\\val\\valid_dataset_iou.csv\n",
      "Exportado: G:\\Meu Drive\\Unet_4_bands_l2a\\lightning_logs\\Unet_mobilenet_v2\\version_0\\val\\valid_f1_score.csv\n",
      "Exportado: G:\\Meu Drive\\Unet_4_bands_l2a\\lightning_logs\\Unet_mobilenet_v2\\version_0\\val\\epoch.csv\n",
      "Processando test logs: G:\\Meu Drive\\Unet_4_bands_l2a\\lightning_logs\\Unet_mobilenet_v2\\version_0\\events.out.tfevents.1739332743.e1b64040053a.2138.2\n",
      "Exportado: G:\\Meu Drive\\Unet_4_bands_l2a\\lightning_logs\\Unet_mobilenet_v2\\version_0\\test\\hp_metric.csv\n",
      "Exportado: G:\\Meu Drive\\Unet_4_bands_l2a\\lightning_logs\\Unet_mobilenet_v2\\version_0\\test\\test_loss.csv\n",
      "Exportado: G:\\Meu Drive\\Unet_4_bands_l2a\\lightning_logs\\Unet_mobilenet_v2\\version_0\\test\\test_acuracia.csv\n",
      "Exportado: G:\\Meu Drive\\Unet_4_bands_l2a\\lightning_logs\\Unet_mobilenet_v2\\version_0\\test\\test_dataset_iou.csv\n",
      "Exportado: G:\\Meu Drive\\Unet_4_bands_l2a\\lightning_logs\\Unet_mobilenet_v2\\version_0\\test\\test_f1_score.csv\n",
      "Exportado: G:\\Meu Drive\\Unet_4_bands_l2a\\lightning_logs\\Unet_mobilenet_v2\\version_0\\test\\epoch.csv\n"
     ]
    }
   ],
   "source": [
    "log_dir = r\"G:\\Meu Drive\\Unet_4_bands_l2a\\lightning_logs\\Unet_mobilenet_v2\\version_0\"  # Diretório onde estão os logs\n",
    "\n",
    "# Dicionário para organizar os arquivos por categoria\n",
    "event_files = {\n",
    "    \"train\": None,\n",
    "    \"val\": None,\n",
    "    \"test\": None\n",
    "}\n",
    "\n",
    "# Identifica os arquivos corretos\n",
    "for f in os.listdir(log_dir):\n",
    "    if \"events.out.tfevents\" in f:\n",
    "        if f.endswith(\".0\"):\n",
    "            event_files[\"train\"] = os.path.join(log_dir, f)\n",
    "        elif f.endswith(\".1\"):\n",
    "            event_files[\"val\"] = os.path.join(log_dir, f)\n",
    "        elif f.endswith(\".2\"):\n",
    "            event_files[\"test\"] = os.path.join(log_dir, f)\n",
    "\n",
    "# Criar pastas para os CSVs\n",
    "for folder in event_files.keys():\n",
    "    os.makedirs(os.path.join(log_dir, folder), exist_ok=True)\n",
    "\n",
    "# Função para processar e salvar os logs\n",
    "def process_event_file(file_path, output_folder):\n",
    "    if file_path:\n",
    "        ea = event_accumulator.EventAccumulator(file_path)\n",
    "        ea.Reload()  # Carrega os dados\n",
    "\n",
    "        # Salva cada métrica como CSV\n",
    "        for tag in ea.Tags()[\"scalars\"]:\n",
    "            scalars = ea.Scalars(tag)\n",
    "            df = pd.DataFrame(scalars, columns=[\"wall_time\", \"step\", \"value\"])\n",
    "            output_path = os.path.join(log_dir, output_folder, f\"{tag}.csv\")\n",
    "            df.to_csv(output_path, index=True, index_label=\"index\")\n",
    "            print(f\"Exportado: {output_path}\")\n",
    "\n",
    "# Processa cada conjunto de logs\n",
    "for category, path in event_files.items():\n",
    "    if path:\n",
    "        print(f\"Processando {category} logs: {path}\")\n",
    "        process_event_file(path, category)\n",
    "    else:\n",
    "        print(f\"Nenhum arquivo encontrado para {category}.\")\n"
   ]
  }
 ],
 "metadata": {
  "kernelspec": {
   "display_name": "cloud",
   "language": "python",
   "name": "python3"
  },
  "language_info": {
   "codemirror_mode": {
    "name": "ipython",
    "version": 3
   },
   "file_extension": ".py",
   "mimetype": "text/x-python",
   "name": "python",
   "nbconvert_exporter": "python",
   "pygments_lexer": "ipython3",
   "version": "3.11.9"
  }
 },
 "nbformat": 4,
 "nbformat_minor": 2
}
